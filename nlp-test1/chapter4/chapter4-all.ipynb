{
 "cells": [
  {
   "cell_type": "raw",
   "metadata": {},
   "source": [
    "4-1:基础\n",
    "赋值：\n",
    "赋值注意修改引用还是修改地址值。\n",
    "用id()函数查看引用的地址\n",
    "等式：\n",
    "\"==\"值比较字面值\n",
    "\"is\"比较是否是同一地址的引用"
   ]
  },
  {
   "cell_type": "raw",
   "metadata": {},
   "source": [
    "4-2 序列 \n",
    "三种序列对象：字符串、元组、列表\n",
    "某些情况下，使用产生器表达式更高效。"
   ]
  },
  {
   "cell_type": "raw",
   "metadata": {},
   "source": [
    "4-3 风格的问题\n",
    "目的是最大限度地提高代码的可读性\n",
    "python代码风格：\n",
    "1、代码布局中每个缩进级别应使用4 个空格，避免使用tab 缩进（不同的编辑器有时会产生不同的解释）\n",
    "2、每行应少于80 个字符长，如果必要的话，你可以在圆括号、方括号或花括号内换行\n",
    "3、通常可以添加额外的括号，也可以在行尾需要换行的地方添加一个反斜杠\n",
    "\n",
    "过程风格与声明风格：\n",
    "尽量使用声明风格，提高代码可读性。\n"
   ]
  },
  {
   "cell_type": "raw",
   "metadata": {},
   "source": [
    "4-4 函数：结构化编程的基础"
   ]
  }
 ],
 "metadata": {
  "kernelspec": {
   "display_name": "Python 3",
   "language": "python",
   "name": "python3"
  },
  "language_info": {
   "codemirror_mode": {
    "name": "ipython",
    "version": 3
   },
   "file_extension": ".py",
   "mimetype": "text/x-python",
   "name": "python",
   "nbconvert_exporter": "python",
   "pygments_lexer": "ipython3",
   "version": "3.6.3"
  }
 },
 "nbformat": 4,
 "nbformat_minor": 2
}
